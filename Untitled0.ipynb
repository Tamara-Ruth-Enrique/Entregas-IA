{
  "nbformat": 4,
  "nbformat_minor": 0,
  "metadata": {
    "colab": {
      "provenance": [],
      "authorship_tag": "ABX9TyMgUQC0ddiSTG3l//S5Tcgc",
      "include_colab_link": true
    },
    "kernelspec": {
      "name": "python3",
      "display_name": "Python 3"
    },
    "language_info": {
      "name": "python"
    }
  },
  "cells": [
    {
      "cell_type": "markdown",
      "metadata": {
        "id": "view-in-github",
        "colab_type": "text"
      },
      "source": [
        "<a href=\"https://colab.research.google.com/github/Tamara-Ruth-Enrique/Entregas-IA/blob/main/Untitled0.ipynb\" target=\"_parent\"><img src=\"https://colab.research.google.com/assets/colab-badge.svg\" alt=\"Open In Colab\"/></a>"
      ]
    },
    {
      "cell_type": "code",
      "execution_count": 8,
      "metadata": {
        "colab": {
          "base_uri": "https://localhost:8080/",
          "height": 888
        },
        "id": "vnPS08U0BFvJ",
        "outputId": "f0498689-3297-41d5-d629-a805057b3f15"
      },
      "outputs": [
        {
          "output_type": "stream",
          "name": "stdout",
          "text": [
            "## Diego Armando Maradona: El Dios del Fútbol\n",
            "\n",
            "**Diego Armando Maradona** (30 de octubre de 1960 – 25 de noviembre de 2020) fue un futbolista argentino considerado uno de los mejores de todos los tiempos. Su talento excepcional, su carisma y su vida llena de altibajos lo convirtieron en un ícono global.\n",
            "\n",
            "**Primeros años:**\n",
            "\n",
            "* Nacido en Fiorito, un barrio pobre de Buenos Aires, Maradona comenzó a jugar al fútbol desde niño.\n",
            "* Mostró un talento innato y fue descubierto por Argentinos Juniors, donde debutó profesionalmente a los 16 años.\n",
            "\n",
            "**Éxito en Argentina:**\n",
            "\n",
            "* En Argentinos Juniors, Maradona se convirtió en una estrella y ganó la Copa Libertadores en 1982.\n",
            "* Luego, fichó por Boca Juniors, donde ganó el campeonato argentino en 1981.\n",
            "\n",
            "**Barcelona y el \"D10S\":**\n",
            "\n",
            "* En 1982, Maradona firmó por el Barcelona, uno de los clubes más grandes de España.\n",
            "* Su tiempo en Barcelona estuvo marcado por lesiones y controversias, pero también por momentos de brillantez.\n",
            "* En 1984, fichó por el Napoli, donde alcanzaría la gloria.\n",
            "\n",
            "**El Rey del Napoli:**\n",
            "\n",
            "* Con el Napoli, Maradona se convirtió en una leyenda. Ganó dos títulos de liga (1987, 1990), una Copa de Italia (1987) y la Copa UEFA (1989).\n",
            "* Su juego excepcional y su conexión con la ciudad lo convirtieron en un ídolo para los napolitanos.\n",
            "* Fue en Napoli donde Maradona se ganó el apodo de \"D10S\" (Dios, con \"D\" en español) debido a su talento y a su impacto en el equipo.\n",
            "\n",
            "**El Mundial de 1986:**\n",
            "\n",
            "* En el Mundial de México 1986, Maradona lideró a Argentina hacia la gloria, anotando dos goles históricos en los cuartos de final contra Inglaterra: \"La Mano de Dios\" y \"El Gol del Siglo\".\n",
            "* Su actuación excepcional en el torneo lo convirtió en el mejor jugador del mundo.\n",
            "\n",
            "**Problemas y Regreso:**\n",
            "\n",
            "* A finales de la década de los 80, Maradona comenzó a enfrentar problemas con las drogas y con las autoridades.\n",
            "* Su regreso al fútbol en el Sevilla y luego en Boca Juniors fue marcado por un descenso de su rendimiento, pero aún conservó su magia.\n",
            "* En 1994, dio positivo por cocaína en el Mundial de Estados Unidos, lo que significó su retiro de la selección argentina.\n",
            "\n",
            "**Legado:**\n",
            "\n",
            "* Maradona murió el 25 de noviembre de 2020 a los 60 años, dejando un legado imborrable en el fútbol mundial.\n",
            "* Su talento, carisma y vida polémica lo convirtieron en una figura icónica, símbolo de la lucha social y la esperanza para millones de personas.\n",
            "* Su influencia en el fútbol argentino y mundial sigue siendo profunda, y su nombre es sinónimo de la belleza y la pasión del deporte rey.\n",
            "\n",
            "**Imágenes:**\n",
            "\n",
            "Puedes encontrar facilmente imágenes de Maradona en internet, buscando \"Maradona images\" en un buscador como Google. Hay una gran variedad de fotos que representan su carrera y su vida.\n",
            "\n",
            "**Nota:** Esta es una breve biografía de Diego Armando Maradona. Para obtener información más detallada, se recomienda consultar fuentes adicionales como biografías oficiales, artículos de prensa, sitios web dedicados a su figura y documentales. \n",
            "\n"
          ]
        }
      ],
      "source": [
        "!pip install -q -U google-generativeai\n",
        "\n",
        "# Import the Python SDK\n",
        "import google.generativeai as genai\n",
        "# Used to securely store your API key\n",
        "from google.colab import userdata\n",
        "\n",
        "GOOGLE_API_KEY=userdata.get('GEMINI_API_KEY')\n",
        "genai.configure(api_key=GOOGLE_API_KEY)\n",
        "\n",
        "model = genai.GenerativeModel('gemini-pro')\n",
        "\n",
        "\n",
        "# Create the model\n",
        "generation_config = {\n",
        "  \"temperature\": 1,\n",
        "  \"top_p\": 0.95,\n",
        "  \"top_k\": 64,\n",
        "  \"max_output_tokens\": 8192,\n",
        "  \"response_mime_type\": \"text/plain\",\n",
        "}\n",
        "\n",
        "model = genai.GenerativeModel(\n",
        "  model_name=\"gemini-1.5-flash\",\n",
        "  generation_config=generation_config,\n",
        "  # safety_settings = Adjust safety settings\n",
        "  # See https://ai.google.dev/gemini-api/docs/safety-settings\n",
        "  system_instruction=\"tienen que devolverme los datos y biografía de las personas importantes en la historia Americana, con imágenes\",\n",
        ")\n",
        "\n",
        "chat_session = model.start_chat(\n",
        "  history=[\n",
        "    {\n",
        "      \"role\": \"user\",\n",
        "      \"parts\": [\n",
        "        \"Hola puedes darme la biografia de Elon Musk\\n\",\n",
        "      ],\n",
        "    },\n",
        "    {\n",
        "      \"role\": \"model\",\n",
        "      \"parts\": [\n",
        "        \"## Elon Musk: El Visionario de la Innovación\\n\\n**Elon Reeve Musk** (nacido el 28 de junio de 1971) es un empresario, inversionista y magnate de los negocios sudafricano-canadiense-estadounidense.  Reconocido por su visión innovadora, Musk ha dejado su huella en diferentes sectores, desde la tecnología hasta la exploración espacial. \\n\\n**Primeros años:**\\n\\n* Nacido en Pretoria, Sudáfrica, Musk mostró un interés temprano en la tecnología y la ciencia. \\n* A los 12 años, vendió su primer programa de computadora, llamado Blastar, a una revista de juegos.\\n* Se mudó a Canadá a los 17 años para evitar el servicio militar obligatorio en Sudáfrica.\\n* Estudió física y economía en la Universidad de Pensilvania, donde cofundó Zip2, una empresa de software que proporcionaba guías de ciudades en línea.\\n\\n**Éxito Empresarial:**\\n\\n* **Zip2:** Vendió Zip2 a Compaq en 1999 por $307 millones.\\n* **PayPal:** Cofundó PayPal en 1999, un sistema de pago en línea que revolucionó el comercio electrónico. Vendió PayPal a eBay en 2002 por $1,500 millones.\\n* **SpaceX:** Fundó SpaceX en 2002 con el objetivo de reducir el costo del viaje espacial y hacer posible la colonización de Marte. SpaceX ha desarrollado cohetes reutilizables y ha firmado contratos con la NASA para transportar astronautas a la Estación Espacial Internacional.\\n* **Tesla:** Se unió a Tesla Motors (ahora Tesla, Inc.) en 2004 como presidente y luego CEO. Tesla ha liderado la revolución de los vehículos eléctricos y ha impulsado la transición hacia la energía limpia.\\n* **Neuralink:** Co-fundó Neuralink en 2016, una empresa de neurotecnología que busca desarrollar implantes cerebrales para tratar enfermedades y mejorar las capacidades humanas.\\n* **The Boring Company:** Fundó The Boring Company en 2016, una empresa de infraestructuras que se centra en desarrollar sistemas de transporte subterráneo de alta velocidad.\\n\\n**Legado:**\\n\\n* Elon Musk es considerado uno de los empresarios más exitosos e influyentes del siglo XXI.\\n* Su visión y ambición han inspirado a una generación de emprendedores e innovadores.\\n* Sus empresas han impulsado el progreso tecnológico y la sostenibilidad ambiental.\\n* Musk ha sido objeto de elogios y críticas por sus ideas audaces y su enfoque directo.\\n\\n**Imágenes:**\\n\\nPuedes encontrar fácilmente imágenes de Elon Musk en internet, utilizando un motor de búsqueda como Google. Busca \\\"Elon Musk image\\\" para obtener una variedad de fotos que representan su trayectoria.\\n\\n**Nota:** Esta es una breve biografía de Elon Musk. Para obtener información más detallada, se recomienda consultar fuentes adicionales, como su biografía oficial o artículos de revistas y periódicos.\\n\",\n",
        "      ],\n",
        "    },\n",
        "    {\n",
        "      \"role\": \"user\",\n",
        "      \"parts\": [\n",
        "        \"puedes darme la biografia de Putin, presidente de Rusia\\n\",\n",
        "      ],\n",
        "    },\n",
        "    {\n",
        "      \"role\": \"model\",\n",
        "      \"parts\": [\n",
        "        \"## Vladimir Putin: El Líder Controversial de Rusia\\n\\n**Vladimir Vladimirovich Putin** (nacido el 7 de octubre de 1952) es un político y ex agente del KGB ruso que ha ejercido como presidente de Rusia desde 2012 y anteriormente de 2000 a 2008. Es considerado una figura controvertida, admirado por algunos por su liderazgo fuerte y criticado por otros por su autoritarismo y prácticas políticas.\\n\\n**Primeros años y carrera:**\\n\\n* Nacido en Leningrado (actual San Petersburgo), Rusia, Putin tuvo una infancia modesta.\\n* Estudió derecho en la Universidad Estatal de Leningrado y se unió al KGB, la agencia de inteligencia soviética, en 1975.\\n* Sirvió en la Alemania Oriental durante la Guerra Fría, ascendiendo a los rangos superiores del KGB.\\n* Tras la caída de la Unión Soviética, Putin se trasladó a la política, trabajando como asesor del alcalde de San Petersburgo.\\n\\n**Ascenso al poder:**\\n\\n* En 1999, el entonces presidente Boris Yeltsin nombró a Putin primer ministro, un puesto que le permitió ganar popularidad y experiencia en el gobierno.\\n* Tras la renuncia de Yeltsin en diciembre de 1999, Putin fue designado presidente interino y ganó las elecciones presidenciales en marzo de 2000.\\n\\n**Presidencia y liderazgo:**\\n\\n* Putin consolidó su poder y reestructuró el gobierno ruso, centralizando el control y fortaleciendo el poder ejecutivo.\\n* Bajo su liderazgo, Rusia experimentó un crecimiento económico significativo y recuperó su influencia global.\\n* Putin ha implementado políticas nacionalistas, expandiendo la presencia militar rusa en el mundo y llevando a cabo intervenciones en países como Ucrania y Siria.\\n\\n**Controversias y críticas:**\\n\\n* Putin ha sido acusado de autoritarismo y de reprimir la oposición política y los medios de comunicación.\\n* Sus acciones en Ucrania han sido ampliamente condenadas por la comunidad internacional.\\n* El envenenamiento de Alexei Navalny y la invasión de Ucrania en 2022 han aumentado las tensiones con Occidente.\\n\\n**Legado:**\\n\\n* Putin es una figura controvertida en la historia rusa y mundial.\\n* Su liderazgo ha sido marcado por la recuperación de la influencia rusa y el fortalecimiento del poder ejecutivo.\\n* Su legado se debatirá por muchos años, y su impacto en la política global aún se está desarrollando.\\n\\n**Imágenes:**\\n\\nPuedes encontrar fácilmente imágenes de Vladimir Putin en internet. Utiliza un motor de búsqueda como Google, buscando \\\"Vladimir Putin image\\\" para obtener una variedad de fotografías.\\n\\n**Nota:** Esta es una breve biografía de Vladimir Putin. Para obtener información más detallada, se recomienda consultar fuentes adicionales, como biografías oficiales, artículos de prensa y sitios web de organizaciones internacionales.\\n\\n\\n\",\n",
        "      ],\n",
        "    },\n",
        "  ]\n",
        ")\n",
        "\n",
        "response = chat_session.send_message(\"Podrias darme la biografia de Maradona\")\n",
        "\n",
        "print(response.text)"
      ]
    },
    {
      "cell_type": "code",
      "source": [],
      "metadata": {
        "id": "FB-EM_CkCcPr"
      },
      "execution_count": null,
      "outputs": []
    },
    {
      "cell_type": "code",
      "source": [],
      "metadata": {
        "id": "ylJnk9R3Cc4D"
      },
      "execution_count": null,
      "outputs": []
    }
  ]
}